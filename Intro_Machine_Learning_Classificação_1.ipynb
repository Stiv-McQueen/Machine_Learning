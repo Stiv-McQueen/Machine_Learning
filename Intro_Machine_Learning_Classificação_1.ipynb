{
  "nbformat": 4,
  "nbformat_minor": 0,
  "metadata": {
    "colab": {
      "name": "Intro Machine Learning_Classificação - 1.ipynb",
      "provenance": [],
      "authorship_tag": "ABX9TyOKLoSNdqHcPzzHU87jiYJC",
      "include_colab_link": true
    },
    "kernelspec": {
      "name": "python3",
      "display_name": "Python 3"
    },
    "language_info": {
      "name": "python"
    }
  },
  "cells": [
    {
      "cell_type": "markdown",
      "metadata": {
        "id": "view-in-github",
        "colab_type": "text"
      },
      "source": [
        "<a href=\"https://colab.research.google.com/github/Stiv-McQueen/Machine_Learning/blob/main/Intro_Machine_Learning_Classifica%C3%A7%C3%A3o_1.ipynb\" target=\"_parent\"><img src=\"https://colab.research.google.com/assets/colab-badge.svg\" alt=\"Open In Colab\"/></a>"
      ]
    },
    {
      "cell_type": "markdown",
      "source": [
        "## Introdução ao Machine learning\n",
        "    Classificação"
      ],
      "metadata": {
        "id": "KHsFaH_YkH80"
      }
    },
    {
      "cell_type": "code",
      "execution_count": 1,
      "metadata": {
        "id": "lDpNRe8rjaGz"
      },
      "outputs": [],
      "source": [
        "#Features\n",
        "#Irei utilizar 3 otimizadores para comparar se é porco ou cachorro (1 = sim e 0 = não)\n",
        "#pêlo longo? Perna curta? Faz au au?\n",
        "\n",
        "porco1 = [0,1,0]\n",
        "porco2 = [0,1,1]\n",
        "porco3 = [1,1,0]\n",
        "\n",
        "dog1 = [0,1,1]\n",
        "dog2 = [1,0,1]\n",
        "dog3 = [1,1,1]\n",
        "\n",
        "#1:porco / 0:dog\n",
        "treino_x = [porco1, porco2, porco3, dog1, dog2, dog3]\n",
        "treino_y = [1,1,1,0,0,0] #labels \"etiquetas\"\n"
      ]
    },
    {
      "cell_type": "markdown",
      "source": [
        "O **LinearSVC** é uma classe que possibilita a criação de um modelo. Portanto, instanciaremos esse estimador (recebendo o nome model), e solicitaremos que ele analise a aprenda com os dados que disponibilizamos. Assim como um ser humano aprende sobre a classificação dos objetos no mundo de forma supervisionada, o modelo tentará adaptar sua lógica de pensamento com base nos dados. O método utilizado para esta ação chama-se **fit()**, que receberá como parâmetro dados, mas como estamos realizando um aprendizado supervisionado, devemos também declarar quais são as classes."
      ],
      "metadata": {
        "id": "96_kCDdNWaS0"
      }
    },
    {
      "cell_type": "code",
      "source": [
        "#Utilizando a biblioteca scikit learn:\n",
        "from sklearn.svm import LinearSVC\n",
        "#Instanciando estimador\n",
        "model = LinearSVC()\n",
        "model.fit(treino_x, treino_y)"
      ],
      "metadata": {
        "colab": {
          "base_uri": "https://localhost:8080/"
        },
        "id": "W-3D9cmdmNJl",
        "outputId": "a48af102-9903-430a-c041-da6e09a68868"
      },
      "execution_count": 2,
      "outputs": [
        {
          "output_type": "execute_result",
          "data": {
            "text/plain": [
              "LinearSVC()"
            ]
          },
          "metadata": {},
          "execution_count": 2
        }
      ]
    },
    {
      "cell_type": "code",
      "source": [
        "#Criando um animal x e utilizando os dados para que o modelo consiga predizer qual animal é\n",
        "animal_x = [1,1,1] \n",
        "#predict para função predizer e em seguida dentro do array a lista[ com vários atributos dentro]\n",
        "model.predict([animal_x])"
      ],
      "metadata": {
        "colab": {
          "base_uri": "https://localhost:8080/"
        },
        "id": "LEJhz64dnEeN",
        "outputId": "02a4b421-7f4e-411f-f967-cdfff9a5e996"
      },
      "execution_count": 3,
      "outputs": [
        {
          "output_type": "execute_result",
          "data": {
            "text/plain": [
              "array([0])"
            ]
          },
          "metadata": {},
          "execution_count": 3
        }
      ]
    },
    {
      "cell_type": "code",
      "source": [
        "#testando utilizando 3 exemplos\n",
        "animal1 = [1,1,0] #espero que seja cachorro\n",
        "animal2 = [0,0,1] #espero que seja cachorro\n",
        "animal3 = [1,0,0] #espero que seja porco\n",
        "teste_x = [animal1, animal2, animal3]\n",
        "#O resultado pode ficar fora do esperado, por ser uma previsão\n",
        "#Classe do que eu esperava\n",
        "teste_y = [0,0,1] #esperado"
      ],
      "metadata": {
        "id": "2kuL9O8WoYxM"
      },
      "execution_count": 4,
      "outputs": []
    },
    {
      "cell_type": "markdown",
      "source": [
        "A variável previsao é um array, pois o Scikit-learn utiliza internamente a biblioteca Numpy, que por sua vez facilita diversos processos numéricos, entre eles a comparação de elementos."
      ],
      "metadata": {
        "id": "a-xiCYRyWu15"
      }
    },
    {
      "cell_type": "code",
      "source": [
        "previsao = model.predict(teste_x)\n",
        "previsao"
      ],
      "metadata": {
        "colab": {
          "base_uri": "https://localhost:8080/"
        },
        "id": "6c0_ty3zT5yP",
        "outputId": "cbee05e8-5fca-4bf0-d841-0d8d0e69aca8"
      },
      "execution_count": 5,
      "outputs": [
        {
          "output_type": "execute_result",
          "data": {
            "text/plain": [
              "array([1, 0, 1])"
            ]
          },
          "metadata": {},
          "execution_count": 5
        }
      ]
    },
    {
      "cell_type": "code",
      "source": [
        "#Fazendo um comparativo\n",
        "teste_y == previsao"
      ],
      "metadata": {
        "colab": {
          "base_uri": "https://localhost:8080/"
        },
        "id": "2T6gFTNRqV2K",
        "outputId": "9b2b9642-ef52-49b7-9176-d556d8626f60"
      },
      "execution_count": 6,
      "outputs": [
        {
          "output_type": "execute_result",
          "data": {
            "text/plain": [
              "array([False,  True,  True])"
            ]
          },
          "metadata": {},
          "execution_count": 6
        }
      ]
    },
    {
      "cell_type": "code",
      "source": [
        "corretos = (teste_y == previsao).sum() #Número de acertos\n",
        "total = len(teste_x) #tamanho dentro do testes\n",
        "taxa_acerto = corretos/total\n",
        "print(\"A taxa de acertos é %.2f\" %(taxa_acerto* 100)) #definir a taxa em porcentagem"
      ],
      "metadata": {
        "colab": {
          "base_uri": "https://localhost:8080/"
        },
        "id": "d6FYbKKpqgqy",
        "outputId": "77df5006-d76f-43b2-df27-2978e764e81e"
      },
      "execution_count": 10,
      "outputs": [
        {
          "output_type": "stream",
          "name": "stdout",
          "text": [
            "A taxa de acertos é 66.67\n"
          ]
        }
      ]
    },
    {
      "cell_type": "code",
      "source": [
        "#na propria biblioteca scikit learn há ferramentas para calcular a taxa de acerto\n",
        "from sklearn.metrics import accuracy_score\n",
        "\n",
        "taxa_acertos = accuracy_score(teste_y, previsao)\n",
        "print(\"A taxa de acertos é %.2f\" %(taxa_acerto* 100))"
      ],
      "metadata": {
        "colab": {
          "base_uri": "https://localhost:8080/"
        },
        "id": "eUFaFxpdO9Ah",
        "outputId": "7cc3932e-6188-4ef6-8419-651e5cb69577"
      },
      "execution_count": 11,
      "outputs": [
        {
          "output_type": "stream",
          "name": "stdout",
          "text": [
            "A taxa de acertos é 66.67\n"
          ]
        }
      ]
    },
    {
      "cell_type": "code",
      "source": [
        "a = b = 5\n",
        "print(b)"
      ],
      "metadata": {
        "colab": {
          "base_uri": "https://localhost:8080/"
        },
        "id": "ujfSDJ5tQmVi",
        "outputId": "a00d9282-f7ca-4ef9-edb2-ea17f3f42bb1"
      },
      "execution_count": 12,
      "outputs": [
        {
          "output_type": "stream",
          "name": "stdout",
          "text": [
            "5\n"
          ]
        }
      ]
    },
    {
      "cell_type": "code",
      "source": [
        "a = [1, 2, 3, 4, 5, 6]\n",
        "print(a[-3:])"
      ],
      "metadata": {
        "colab": {
          "base_uri": "https://localhost:8080/"
        },
        "id": "7iL7qPfmcN2g",
        "outputId": "a09e1ccb-4ffb-473f-8c9b-431d7f4be54e"
      },
      "execution_count": 13,
      "outputs": [
        {
          "output_type": "stream",
          "name": "stdout",
          "text": [
            "[4, 5, 6]\n"
          ]
        }
      ]
    },
    {
      "cell_type": "code",
      "source": [
        "string = \"this is a string.\"\n",
        "\n",
        "capitalizedstring = string.capitalize()\n",
        "\n",
        "print(capitalizedstring)"
      ],
      "metadata": {
        "colab": {
          "base_uri": "https://localhost:8080/"
        },
        "id": "58AUe78WjrGT",
        "outputId": "fab5337c-0d20-46f4-b3c1-f5da4ac4900d"
      },
      "execution_count": 15,
      "outputs": [
        {
          "output_type": "stream",
          "name": "stdout",
          "text": [
            "This is a string.\n"
          ]
        }
      ]
    }
  ]
}