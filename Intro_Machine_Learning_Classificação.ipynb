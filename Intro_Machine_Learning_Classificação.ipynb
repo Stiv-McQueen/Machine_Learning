{
  "nbformat": 4,
  "nbformat_minor": 0,
  "metadata": {
    "colab": {
      "name": "Intro Machine Learning_Classificação.ipynb",
      "provenance": [],
      "authorship_tag": "ABX9TyNuM5mone4VKU80PR+ykaG8",
      "include_colab_link": true
    },
    "kernelspec": {
      "name": "python3",
      "display_name": "Python 3"
    },
    "language_info": {
      "name": "python"
    }
  },
  "cells": [
    {
      "cell_type": "markdown",
      "metadata": {
        "id": "view-in-github",
        "colab_type": "text"
      },
      "source": [
        "<a href=\"https://colab.research.google.com/github/Stiv-McQueen/Machine_Learning/blob/main/Intro_Machine_Learning_Classifica%C3%A7%C3%A3o.ipynb\" target=\"_parent\"><img src=\"https://colab.research.google.com/assets/colab-badge.svg\" alt=\"Open In Colab\"/></a>"
      ]
    },
    {
      "cell_type": "markdown",
      "source": [
        "## Introdução ao Machine learning\n",
        "    Classificação"
      ],
      "metadata": {
        "id": "KHsFaH_YkH80"
      }
    },
    {
      "cell_type": "code",
      "execution_count": 1,
      "metadata": {
        "id": "lDpNRe8rjaGz"
      },
      "outputs": [],
      "source": [
        "#Features\n",
        "#Irei utilizar 3 otimizadores para comparar se é porco ou cachorro (1 = sim e 0 = não)\n",
        "#pêlo longo? Perna curta? Faz au au?\n",
        "\n",
        "porco1 = [0,1,0]\n",
        "porco2 = [0,1,1]\n",
        "porco3 = [1,1,0]\n",
        "\n",
        "dog1 = [0,1,1]\n",
        "dog2 = [1,0,1]\n",
        "dog3 = [1,1,1]\n",
        "\n",
        "#1:porco / 0:dog\n",
        "dados = [porco1, porco2, porco3, dog1, dog2, dog3]\n",
        "classes = [1,1,1,0,0,0]\n"
      ]
    },
    {
      "cell_type": "code",
      "source": [
        "#Utilizando a biblioteca scikit learn:\n",
        "from sklearn.svm import LinearSVC\n",
        "#Instanciando estimador\n",
        "model = LinearSVC()\n",
        "model.fit(dados, classes)"
      ],
      "metadata": {
        "colab": {
          "base_uri": "https://localhost:8080/"
        },
        "id": "W-3D9cmdmNJl",
        "outputId": "11d96382-372e-4e9d-8ab5-b5431b34b41c"
      },
      "execution_count": 4,
      "outputs": [
        {
          "output_type": "execute_result",
          "data": {
            "text/plain": [
              "LinearSVC()"
            ]
          },
          "metadata": {},
          "execution_count": 4
        }
      ]
    },
    {
      "cell_type": "code",
      "source": [
        "#Criando um animal x e utilizando os dados para que o modelo consiga predizer qual animal é\n",
        "animal_x = [1,1,1] \n",
        "#predict para função predizer e em seguida dentro do array a lista[ com vários atributos dentro]\n",
        "model.predict([animal_x])"
      ],
      "metadata": {
        "colab": {
          "base_uri": "https://localhost:8080/"
        },
        "id": "LEJhz64dnEeN",
        "outputId": "14d8f119-b0c7-4ff8-a10f-28414ab9645f"
      },
      "execution_count": 7,
      "outputs": [
        {
          "output_type": "execute_result",
          "data": {
            "text/plain": [
              "array([0])"
            ]
          },
          "metadata": {},
          "execution_count": 7
        }
      ]
    },
    {
      "cell_type": "code",
      "source": [
        "#testando utilizando 3 exemplos\n",
        "animal1 = [1,1,0] #espero que seja cachorro\n",
        "animal2 = [0,0,1] #espero que seja cachorro\n",
        "animal3 = [1,0,0] #espero que seja porco\n",
        "testes = [animal1, animal2, animal3]\n",
        "#O resultado pode ficar fora do esperado, por ser uma previsão\n",
        "previsao = model.predict(testes)\n",
        "previsao"
      ],
      "metadata": {
        "colab": {
          "base_uri": "https://localhost:8080/"
        },
        "id": "2kuL9O8WoYxM",
        "outputId": "a138690c-6b55-4d50-fe7a-6e5cd8cd35fb"
      },
      "execution_count": 17,
      "outputs": [
        {
          "output_type": "execute_result",
          "data": {
            "text/plain": [
              "array([1, 0, 1])"
            ]
          },
          "metadata": {},
          "execution_count": 17
        }
      ]
    },
    {
      "cell_type": "code",
      "source": [
        "#Classe do que eu esperava\n",
        "classe_testes = [0,1,1]"
      ],
      "metadata": {
        "id": "9_oHgS8VpHcm"
      },
      "execution_count": 18,
      "outputs": []
    },
    {
      "cell_type": "code",
      "source": [
        "#Fazendo um comparativo\n",
        "classe_testes == previsao"
      ],
      "metadata": {
        "colab": {
          "base_uri": "https://localhost:8080/"
        },
        "id": "2T6gFTNRqV2K",
        "outputId": "6d633fe3-7f11-4ab2-f5db-0cf25ae39f1d"
      },
      "execution_count": 19,
      "outputs": [
        {
          "output_type": "execute_result",
          "data": {
            "text/plain": [
              "array([False, False,  True])"
            ]
          },
          "metadata": {},
          "execution_count": 19
        }
      ]
    },
    {
      "cell_type": "code",
      "source": [
        ""
      ],
      "metadata": {
        "id": "d6FYbKKpqgqy"
      },
      "execution_count": null,
      "outputs": []
    }
  ]
}